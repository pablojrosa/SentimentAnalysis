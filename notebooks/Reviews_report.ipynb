{
 "cells": [
  {
   "cell_type": "markdown",
   "id": "2a7ea61e-961c-4114-aac2-57ffc4ff33e3",
   "metadata": {},
   "source": [
    "# 1. Imports"
   ]
  },
  {
   "cell_type": "code",
   "execution_count": 1,
   "id": "785154f8-b095-4fdc-bdd2-7407d4e3ceed",
   "metadata": {},
   "outputs": [],
   "source": [
    "import os\n",
    "import sys\n",
    "import pandas as pd\n",
    "import math\n",
    "import matplotlib.pyplot as plt\n",
    "import seaborn as sns\n",
    "from sklearn.metrics import confusion_matrix\n",
    "from sklearn.model_selection import train_test_split\n",
    "from sklearn.metrics import classification_report\n",
    "\n",
    "# Manejo de dependencias internas del proyecto\n",
    "notebook_dir = os.getcwd()\n",
    "project_root = os.path.abspath(os.path.join(notebook_dir, '..'))\n",
    "sys.path.append(project_root)\n",
    "\n",
    "from utils.get_llm_reviews import analyze_sentiment\n",
    "from prompts.Sentiment_Analysis import system_prompt"
   ]
  },
  {
   "cell_type": "markdown",
   "id": "b26e68bd-1008-47f4-b7b2-74994eb4c388",
   "metadata": {},
   "source": [
    "# 2. Leo la data de reviews\n",
    "\n",
    "La informacion a analizar, corresponde al sitio Mercado Libre.\n",
    "La informacion contiene 1134 reviews de productos, de la categoria Celulares y Teléfonos.\n",
    "El criterio utilizado para determinar si la review es positiva o negativa fue el ranking en estrellas obtenido en la review.\n",
    "\n",
    "**Review Positiva:** 4 o 5 estrellas\n",
    "\n",
    "**Review Negativa:** 1, 2 o 3 estrellas"
   ]
  },
  {
   "cell_type": "code",
   "execution_count": 2,
   "id": "55dd3235-6944-4f1b-8b60-f983a9397d52",
   "metadata": {
    "scrolled": true
   },
   "outputs": [],
   "source": [
    "csv_path = os.path.abspath(os.path.join(project_root, 'data', 'item_reviews.csv'))\n",
    "df_reviews = pd.read_csv(csv_path)"
   ]
  },
  {
   "cell_type": "markdown",
   "id": "aee6d9ee-d2df-4f65-af68-cc09ca18c974",
   "metadata": {},
   "source": [
    "Antes de comenzar, nos aseguramos que todos los registros tengan una review"
   ]
  },
  {
   "cell_type": "markdown",
   "id": "eb347478-9468-4aa3-9062-0abc4d448c2a",
   "metadata": {},
   "source": [
    "# 3. Preparar la data"
   ]
  },
  {
   "cell_type": "code",
   "execution_count": 3,
   "id": "5d4ec281-542e-4a9a-a2a2-9f423dd93b74",
   "metadata": {},
   "outputs": [
    {
     "data": {
      "text/plain": [
       "18"
      ]
     },
     "execution_count": 3,
     "metadata": {},
     "output_type": "execute_result"
    }
   ],
   "source": [
    "df_reviews[\"content\"].isnull().sum()"
   ]
  },
  {
   "cell_type": "markdown",
   "id": "9f65af8c-db98-4e72-bc19-40cd53ba9f78",
   "metadata": {},
   "source": [
    "Al existir 18 registros sin reviews, se eliminan ya que no se podrá hacer prediccion alguna sobre estos registros"
   ]
  },
  {
   "cell_type": "code",
   "execution_count": 4,
   "id": "bdacbc18-2813-4967-a147-c0fe032ba099",
   "metadata": {},
   "outputs": [],
   "source": [
    "df_reviews = df_reviews[-df_reviews[\"content\"].isnull()].reset_index(drop=True)"
   ]
  },
  {
   "cell_type": "markdown",
   "id": "ce6d91df-b1bf-4549-9b5d-1ade73c7990a",
   "metadata": {},
   "source": [
    "Verificamos el balance de las clases a categorizar"
   ]
  },
  {
   "cell_type": "code",
   "execution_count": 5,
   "id": "b9cb2b61-8c55-4b4a-bd63-b6a950897d6b",
   "metadata": {},
   "outputs": [
    {
     "data": {
      "text/plain": [
       "sentiment\n",
       "Positive    0.960573\n",
       "Negative    0.039427\n",
       "Name: proportion, dtype: float64"
      ]
     },
     "execution_count": 5,
     "metadata": {},
     "output_type": "execute_result"
    }
   ],
   "source": [
    "df_reviews[\"sentiment\"].value_counts(\"%\")"
   ]
  },
  {
   "cell_type": "code",
   "execution_count": 6,
   "id": "0e8ec34c-69f2-4fbe-a583-6b834377cf51",
   "metadata": {},
   "outputs": [
    {
     "data": {
      "text/plain": [
       "1116"
      ]
     },
     "execution_count": 6,
     "metadata": {},
     "output_type": "execute_result"
    }
   ],
   "source": [
    "len(df_reviews)"
   ]
  },
  {
   "cell_type": "markdown",
   "id": "93bdbaf4-213c-4054-89df-4305090bd286",
   "metadata": {},
   "source": [
    "Si bien se seleccionaron 1116 reviews, de Mercado Libre, a fines del reporte solo utilizar el 20% del dataset para agilizar la velocidad del experimento.\n",
    "\n",
    "Paar ser mas precisos con la realidad, el dataset de muestra tendra la mismsa distribucion de clases."
   ]
  },
  {
   "cell_type": "code",
   "execution_count": 7,
   "id": "28b7aa14-8f97-40a4-851d-1e2122232218",
   "metadata": {},
   "outputs": [
    {
     "data": {
      "text/plain": [
       "223"
      ]
     },
     "execution_count": 7,
     "metadata": {},
     "output_type": "execute_result"
    }
   ],
   "source": [
    "df_sample_random_reviews, _ = train_test_split(df_reviews, test_size=0.8, random_state=42, stratify=df_reviews['sentiment'])\n",
    "\n",
    "df_sample_random_reviews = df_sample_random_reviews.reset_index(drop = True)\n",
    "\n",
    "len(df_sample_random_reviews)"
   ]
  },
  {
   "cell_type": "markdown",
   "id": "5694422f-75f8-4b65-882a-08a6b9222480",
   "metadata": {},
   "source": [
    "# 4. Obtenemos las predicciones"
   ]
  },
  {
   "cell_type": "code",
   "execution_count": 8,
   "id": "8b4b3d5c-314c-4c80-ac7b-eac9b06d969b",
   "metadata": {},
   "outputs": [],
   "source": [
    "procesado = []"
   ]
  },
  {
   "cell_type": "code",
   "execution_count": 9,
   "id": "2ef32ece-f1a1-45dc-87b1-ee136051237b",
   "metadata": {
    "scrolled": true
   },
   "outputs": [
    {
     "name": "stdout",
     "output_type": "stream",
     "text": [
      "message 0 from 223\n",
      "message 1 from 223\n",
      "message 2 from 223\n",
      "message 3 from 223\n",
      "message 4 from 223\n",
      "message 5 from 223\n",
      "message 6 from 223\n",
      "message 7 from 223\n",
      "message 8 from 223\n",
      "message 9 from 223\n",
      "message 10 from 223\n",
      "message 11 from 223\n",
      "message 12 from 223\n",
      "message 13 from 223\n",
      "message 14 from 223\n",
      "message 15 from 223\n",
      "message 16 from 223\n",
      "message 17 from 223\n",
      "message 18 from 223\n",
      "message 19 from 223\n",
      "message 20 from 223\n",
      "message 21 from 223\n",
      "message 22 from 223\n",
      "message 23 from 223\n",
      "message 24 from 223\n",
      "message 25 from 223\n",
      "message 26 from 223\n",
      "message 27 from 223\n",
      "message 28 from 223\n",
      "message 29 from 223\n",
      "message 30 from 223\n",
      "message 31 from 223\n",
      "message 32 from 223\n",
      "message 33 from 223\n",
      "message 34 from 223\n",
      "message 35 from 223\n",
      "message 36 from 223\n",
      "message 37 from 223\n",
      "message 38 from 223\n",
      "message 39 from 223\n",
      "message 40 from 223\n",
      "message 41 from 223\n",
      "message 42 from 223\n",
      "message 43 from 223\n",
      "message 44 from 223\n",
      "message 45 from 223\n",
      "message 46 from 223\n",
      "message 47 from 223\n",
      "message 48 from 223\n",
      "message 49 from 223\n",
      "message 50 from 223\n",
      "message 51 from 223\n",
      "message 52 from 223\n",
      "message 53 from 223\n",
      "message 54 from 223\n",
      "message 55 from 223\n",
      "message 56 from 223\n",
      "message 57 from 223\n",
      "message 58 from 223\n",
      "message 59 from 223\n",
      "message 60 from 223\n",
      "message 61 from 223\n",
      "message 62 from 223\n",
      "message 63 from 223\n",
      "message 64 from 223\n",
      "message 65 from 223\n",
      "message 66 from 223\n",
      "message 67 from 223\n",
      "message 68 from 223\n",
      "message 69 from 223\n",
      "message 70 from 223\n",
      "message 71 from 223\n",
      "message 72 from 223\n",
      "message 73 from 223\n",
      "message 74 from 223\n",
      "message 75 from 223\n",
      "message 76 from 223\n",
      "message 77 from 223\n",
      "message 78 from 223\n",
      "message 79 from 223\n",
      "message 80 from 223\n",
      "message 81 from 223\n",
      "message 82 from 223\n",
      "message 83 from 223\n",
      "message 84 from 223\n",
      "message 85 from 223\n",
      "message 86 from 223\n",
      "message 87 from 223\n",
      "message 88 from 223\n",
      "message 89 from 223\n",
      "message 90 from 223\n",
      "message 91 from 223\n",
      "message 92 from 223\n",
      "message 93 from 223\n",
      "message 94 from 223\n",
      "message 95 from 223\n",
      "message 96 from 223\n",
      "message 97 from 223\n",
      "message 98 from 223\n",
      "message 99 from 223\n",
      "message 100 from 223\n",
      "message 101 from 223\n",
      "message 102 from 223\n",
      "message 103 from 223\n",
      "message 104 from 223\n",
      "message 105 from 223\n",
      "message 106 from 223\n",
      "message 107 from 223\n",
      "message 108 from 223\n",
      "message 109 from 223\n",
      "message 110 from 223\n",
      "message 111 from 223\n",
      "message 112 from 223\n",
      "message 113 from 223\n",
      "message 114 from 223\n",
      "message 115 from 223\n",
      "message 116 from 223\n",
      "message 117 from 223\n",
      "message 118 from 223\n",
      "message 119 from 223\n",
      "message 120 from 223\n",
      "message 121 from 223\n",
      "message 122 from 223\n",
      "message 123 from 223\n",
      "message 124 from 223\n",
      "message 125 from 223\n",
      "message 126 from 223\n",
      "message 127 from 223\n",
      "message 128 from 223\n",
      "message 129 from 223\n",
      "message 130 from 223\n",
      "message 131 from 223\n",
      "message 132 from 223\n",
      "message 133 from 223\n",
      "message 134 from 223\n",
      "message 135 from 223\n",
      "message 136 from 223\n",
      "message 137 from 223\n",
      "message 138 from 223\n",
      "message 139 from 223\n",
      "message 140 from 223\n",
      "message 141 from 223\n",
      "message 142 from 223\n",
      "message 143 from 223\n",
      "message 144 from 223\n",
      "message 145 from 223\n",
      "message 146 from 223\n",
      "message 147 from 223\n",
      "message 148 from 223\n",
      "message 149 from 223\n",
      "message 150 from 223\n",
      "message 151 from 223\n",
      "message 152 from 223\n",
      "message 153 from 223\n",
      "message 154 from 223\n",
      "message 155 from 223\n",
      "message 156 from 223\n",
      "message 157 from 223\n",
      "message 158 from 223\n",
      "message 159 from 223\n",
      "message 160 from 223\n",
      "message 161 from 223\n",
      "message 162 from 223\n",
      "message 163 from 223\n",
      "message 164 from 223\n",
      "message 165 from 223\n",
      "message 166 from 223\n",
      "message 167 from 223\n",
      "message 168 from 223\n",
      "message 169 from 223\n",
      "message 170 from 223\n",
      "message 171 from 223\n",
      "message 172 from 223\n",
      "message 173 from 223\n",
      "message 174 from 223\n",
      "message 175 from 223\n",
      "message 176 from 223\n",
      "message 177 from 223\n",
      "message 178 from 223\n",
      "message 179 from 223\n",
      "message 180 from 223\n",
      "message 181 from 223\n",
      "message 182 from 223\n",
      "message 183 from 223\n",
      "message 184 from 223\n",
      "message 185 from 223\n",
      "message 186 from 223\n",
      "message 187 from 223\n",
      "message 188 from 223\n",
      "message 189 from 223\n",
      "message 190 from 223\n",
      "message 191 from 223\n",
      "message 192 from 223\n",
      "message 193 from 223\n",
      "message 194 from 223\n",
      "message 195 from 223\n",
      "message 196 from 223\n",
      "message 197 from 223\n",
      "message 198 from 223\n",
      "message 199 from 223\n",
      "message 200 from 223\n",
      "message 201 from 223\n",
      "message 202 from 223\n",
      "message 203 from 223\n",
      "message 204 from 223\n",
      "message 205 from 223\n",
      "message 206 from 223\n",
      "message 207 from 223\n",
      "message 208 from 223\n",
      "message 209 from 223\n",
      "message 210 from 223\n",
      "message 211 from 223\n",
      "message 212 from 223\n",
      "message 213 from 223\n",
      "message 214 from 223\n",
      "message 215 from 223\n",
      "message 216 from 223\n",
      "message 217 from 223\n",
      "message 218 from 223\n",
      "message 219 from 223\n",
      "message 220 from 223\n",
      "message 221 from 223\n",
      "message 222 from 223\n"
     ]
    }
   ],
   "source": [
    "results_list = []\n",
    "\n",
    "# Iterar sobre todas las filas del DataFrame\n",
    "for i in range(len(df_sample_random_reviews)):\n",
    "    if i not in procesado:\n",
    "        try:\n",
    "            review = df_sample_random_reviews.loc[i,\"content\"]\n",
    "            sentiment = df_sample_random_reviews.loc[i,\"sentiment\"]\n",
    "            predicted_sentiment = analyze_sentiment(review, system_prompt)\n",
    "        \n",
    "            result_dict = {\n",
    "                \"review\": review,\n",
    "                \"actual_sentiment\": sentiment,\n",
    "                \"predicted_sentiment\": predicted_sentiment\n",
    "            }\n",
    "            results_list.append(result_dict)\n",
    "            procesado.append(i)\n",
    "            print(\"message {} from {}\".format(i, len(df_sample_random_reviews)))\n",
    "        except:\n",
    "            print(\"no procesado {} from {}\".format(i, len(df_sample_random_reviews)))\n",
    "            procesado.append(i)\n",
    "            pass"
   ]
  },
  {
   "cell_type": "code",
   "execution_count": 10,
   "id": "5bee4a3c-6f70-47cf-bc8b-32a7399e69da",
   "metadata": {},
   "outputs": [],
   "source": [
    "df_predictions = pd.DataFrame(results_list)\n",
    "save_results_path = os.path.abspath(os.path.join(project_root, 'data', 'prediction_results.csv'))\n",
    "df_predictions.to_csv(save_results_path)"
   ]
  },
  {
   "cell_type": "markdown",
   "id": "8d0e236c-e28a-45ca-b466-b9bc1013b0b2",
   "metadata": {},
   "source": [
    "# 5. Métricas"
   ]
  },
  {
   "cell_type": "code",
   "execution_count": 11,
   "id": "0b70de18-c27c-484d-ac7b-173d6c56fad1",
   "metadata": {},
   "outputs": [
    {
     "data": {
      "image/png": "[encoded data removed]",
      "text/plain": [
       "<Figure size 640x480 with 2 Axes>"
      ]
     },
     "metadata": {},
     "output_type": "display_data"
    }
   ],
   "source": [
    "cm = confusion_matrix(df_predictions['actual_sentiment'], df_predictions['predicted_sentiment'], labels=[\"Positive\", \"Negative\"])\n",
    "\n",
    "# Visualizar matriz de confusión con seaborn\n",
    "sns.heatmap(cm, annot=True, fmt='d', cmap='Blues', xticklabels=[\"Positive\", \"Negative\"], yticklabels=[\"Positive\", \"Negative\"])\n",
    "plt.xlabel('Predicted')\n",
    "plt.ylabel('Actual')\n",
    "plt.title('Confusion Matrix')\n",
    "plt.show()"
   ]
  },
  {
   "cell_type": "code",
   "execution_count": 12,
   "id": "c0f0c7c4-3f37-4904-9443-e486cfde2c69",
   "metadata": {
    "scrolled": true
   },
   "outputs": [],
   "source": [
    "report = classification_report(df_predictions['actual_sentiment'],\n",
    "                               df_predictions['predicted_sentiment'],\n",
    "                               target_names=['Negative', 'Positive'])"
   ]
  },
  {
   "cell_type": "code",
   "execution_count": 13,
   "id": "0595216b-947f-4a0e-98f3-8261799afe40",
   "metadata": {},
   "outputs": [
    {
     "name": "stdout",
     "output_type": "stream",
     "text": [
      "              precision    recall  f1-score   support\n",
      "\n",
      "    Negative       0.47      0.89      0.62         9\n",
      "    Positive       1.00      0.96      0.98       214\n",
      "\n",
      "    accuracy                           0.96       223\n",
      "   macro avg       0.73      0.92      0.80       223\n",
      "weighted avg       0.97      0.96      0.96       223\n",
      "\n"
     ]
    }
   ],
   "source": [
    "print(report)"
   ]
  },
  {
   "cell_type": "markdown",
   "id": "09fef65c-61c5-4cea-beb2-7462d4983aec",
   "metadata": {},
   "source": [
    "# 6. Análisis de los resultados\n",
    "\n",
    "Analizaremos ambos casos:\n",
    "\n",
    "1. Reviews que son Positivas, pero el LLM predijo que son Negativas\n",
    "2. Reviews que son Negativas, pero el LLM predijo que son Positivas"
   ]
  },
  {
   "cell_type": "code",
   "execution_count": 16,
   "id": "da6cefc0-c5ea-49eb-b9f0-275c58bef5b5",
   "metadata": {},
   "outputs": [
    {
     "data": {
      "text/html": [
       "<div>\n",
       "<style scoped>\n",
       "    .dataframe tbody tr th:only-of-type {\n",
       "        vertical-align: middle;\n",
       "    }\n",
       "\n",
       "    .dataframe tbody tr th {\n",
       "        vertical-align: top;\n",
       "    }\n",
       "\n",
       "    .dataframe thead th {\n",
       "        text-align: right;\n",
       "    }\n",
       "</style>\n",
       "<table border=\"1\" class=\"dataframe\">\n",
       "  <thead>\n",
       "    <tr style=\"text-align: right;\">\n",
       "      <th></th>\n",
       "      <th>review</th>\n",
       "      <th>actual_sentiment</th>\n",
       "      <th>predicted_sentiment</th>\n",
       "    </tr>\n",
       "  </thead>\n",
       "  <tbody>\n",
       "    <tr>\n",
       "      <th>10</th>\n",
       "      <td>En relación precio calidad excelente. Aunque c...</td>\n",
       "      <td>Positive</td>\n",
       "      <td>Negative</td>\n",
       "    </tr>\n",
       "    <tr>\n",
       "      <th>17</th>\n",
       "      <td>Bueno, falta que marque los km recorridos como...</td>\n",
       "      <td>Positive</td>\n",
       "      <td>Negative</td>\n",
       "    </tr>\n",
       "    <tr>\n",
       "      <th>42</th>\n",
       "      <td>La verdad esperaba más,la batería no dura nada...</td>\n",
       "      <td>Positive</td>\n",
       "      <td>Negative</td>\n",
       "    </tr>\n",
       "    <tr>\n",
       "      <th>65</th>\n",
       "      <td>El cable no dice que es marca soul como la des...</td>\n",
       "      <td>Positive</td>\n",
       "      <td>Negative</td>\n",
       "    </tr>\n",
       "    <tr>\n",
       "      <th>69</th>\n",
       "      <td>Muy buen producto, pero en la descripción decí...</td>\n",
       "      <td>Positive</td>\n",
       "      <td>Negative</td>\n",
       "    </tr>\n",
       "    <tr>\n",
       "      <th>82</th>\n",
       "      <td>Pedi una devolución parcial del dinero, aún no...</td>\n",
       "      <td>Positive</td>\n",
       "      <td>Negative</td>\n",
       "    </tr>\n",
       "    <tr>\n",
       "      <th>88</th>\n",
       "      <td>Una falla, se tilda con el sensor de luz y ten...</td>\n",
       "      <td>Positive</td>\n",
       "      <td>Negative</td>\n",
       "    </tr>\n",
       "    <tr>\n",
       "      <th>93</th>\n",
       "      <td>Rapido, buena camara, bien la pantalla pero la...</td>\n",
       "      <td>Positive</td>\n",
       "      <td>Negative</td>\n",
       "    </tr>\n",
       "    <tr>\n",
       "      <th>205</th>\n",
       "      <td>Me gusto. Le falta más sonido cuando me llaman...</td>\n",
       "      <td>Positive</td>\n",
       "      <td>Negative</td>\n",
       "    </tr>\n",
       "  </tbody>\n",
       "</table>\n",
       "</div>"
      ],
      "text/plain": [
       "                                                review actual_sentiment  \\\n",
       "10   En relación precio calidad excelente. Aunque c...         Positive   \n",
       "17   Bueno, falta que marque los km recorridos como...         Positive   \n",
       "42   La verdad esperaba más,la batería no dura nada...         Positive   \n",
       "65   El cable no dice que es marca soul como la des...         Positive   \n",
       "69   Muy buen producto, pero en la descripción decí...         Positive   \n",
       "82   Pedi una devolución parcial del dinero, aún no...         Positive   \n",
       "88   Una falla, se tilda con el sensor de luz y ten...         Positive   \n",
       "93   Rapido, buena camara, bien la pantalla pero la...         Positive   \n",
       "205  Me gusto. Le falta más sonido cuando me llaman...         Positive   \n",
       "\n",
       "    predicted_sentiment  \n",
       "10             Negative  \n",
       "17             Negative  \n",
       "42             Negative  \n",
       "65             Negative  \n",
       "69             Negative  \n",
       "82             Negative  \n",
       "88             Negative  \n",
       "93             Negative  \n",
       "205            Negative  "
      ]
     },
     "execution_count": 16,
     "metadata": {},
     "output_type": "execute_result"
    }
   ],
   "source": [
    "df_predictions[(df_predictions['actual_sentiment']==\"Positive\") & (df_predictions['predicted_sentiment']==\"Negative\")]"
   ]
  },
  {
   "cell_type": "markdown",
   "id": "3f552e54-8f7d-486b-be89-5fe342a67394",
   "metadata": {},
   "source": [
    "Como se puede observar, en este caso, las reviews son casos que, a pesar de haberlas calificado con 4 o 5 estrellas, el producto presenta oportunidades de mejora. Puede que estas reviews, no son lo suficientemente malas, como para tribuirle el ranking que finalmente le dieron al producto."
   ]
  },
  {
   "cell_type": "code",
   "execution_count": 17,
   "id": "9b85ab87-f63c-4954-a2e0-1605e72f6ab5",
   "metadata": {},
   "outputs": [
    {
     "data": {
      "text/html": [
       "<div>\n",
       "<style scoped>\n",
       "    .dataframe tbody tr th:only-of-type {\n",
       "        vertical-align: middle;\n",
       "    }\n",
       "\n",
       "    .dataframe tbody tr th {\n",
       "        vertical-align: top;\n",
       "    }\n",
       "\n",
       "    .dataframe thead th {\n",
       "        text-align: right;\n",
       "    }\n",
       "</style>\n",
       "<table border=\"1\" class=\"dataframe\">\n",
       "  <thead>\n",
       "    <tr style=\"text-align: right;\">\n",
       "      <th></th>\n",
       "      <th>review</th>\n",
       "      <th>actual_sentiment</th>\n",
       "      <th>predicted_sentiment</th>\n",
       "    </tr>\n",
       "  </thead>\n",
       "  <tbody>\n",
       "    <tr>\n",
       "      <th>111</th>\n",
       "      <td>Mi experiencia luego de varias horas de prueba...</td>\n",
       "      <td>Negative</td>\n",
       "      <td>Positive</td>\n",
       "    </tr>\n",
       "  </tbody>\n",
       "</table>\n",
       "</div>"
      ],
      "text/plain": [
       "                                                review actual_sentiment  \\\n",
       "111  Mi experiencia luego de varias horas de prueba...         Negative   \n",
       "\n",
       "    predicted_sentiment  \n",
       "111            Positive  "
      ]
     },
     "execution_count": 17,
     "metadata": {},
     "output_type": "execute_result"
    }
   ],
   "source": [
    "df_predictions[(df_predictions['actual_sentiment']==\"Negative\") & (df_predictions['predicted_sentiment']==\"Positive\")]"
   ]
  },
  {
   "cell_type": "code",
   "execution_count": 19,
   "id": "7ad9f0d4-03fd-4e13-9c42-a814e01b66bf",
   "metadata": {},
   "outputs": [
    {
     "name": "stdout",
     "output_type": "stream",
     "text": [
      "Mi experiencia luego de varias horas de prueba es la siguiente:.\n",
      "- el router tiene que tener el nombre de fabrica para que el repetidor no falle.\n",
      "- es preferible acercarse con el repetidor a la zona donde queres hacer llegar la señal (con muy poca señal la agarra y la aumenta) que ponerlo a mitad de camino entre el router y la zona a dar señal.\n",
      "- anda bien si no tiene paredes o losas. Las distancias aproximadas son 12 mtrs sin interferencias, 8 mtrs con 1 interferencia, 5 mtrs con 2 interferencias, no pasa las tres interferencias. Saludos.\n"
     ]
    }
   ],
   "source": [
    "print(df_predictions.loc[111,\"review\"])"
   ]
  },
  {
   "cell_type": "markdown",
   "id": "64822d4b-a972-462c-8f7d-29ce8b85db71",
   "metadata": {},
   "source": [
    "En este caso, la persona se muestra frustrada por la falla en la conectividad del dispositivo. Lo hizo saber tanto en el score del producto como en la review, claramente aqui el LLM falló."
   ]
  },
  {
   "cell_type": "markdown",
   "id": "decb6053-b68c-4cb8-92f7-9af155f79328",
   "metadata": {},
   "source": [
    "# 7. Conclusiones\n",
    "\n",
    "1. El modelo funciona muy bien, tiene un 96% de accuracy.\n",
    "2. La baja precisión, en el caso de las reviews Negativas, se puede explicar por una mal criterio en la categorizacion de las reviews, es decir, no siempre el score que se le atribuye al producto, va correlacionado a una review acorde.\n",
    "3. Es un buen LLM que sirve para identificar las reviews Positivas, alcanzando casi 100% de accuracy"
   ]
  },
  {
   "cell_type": "markdown",
   "id": "21f4ecd3-908f-4c67-b638-296c41335e39",
   "metadata": {},
   "source": [
    "# 8. Next steps / Mejoras propuestas\n",
    "\n",
    "Para mejorar el score del LLM, se proponen las siguientes alternativas:\n",
    "\n",
    "1. Seleccionar otro criterio para categorizar las reviews entre Positivas y Negativas.\n",
    "2. Utilizar ejemplos de casos \"edge\", con el objetivo de proporcionarle mas informacion relevante al LLM.\n",
    "3. Hacer fine tune del sobre un modelo base para poder ajustar los resultados.\n"
   ]
  },
  {
   "cell_type": "code",
   "execution_count": null,
   "id": "fab982d6-ac43-4cf1-892e-bfa73f6968af",
   "metadata": {},
   "outputs": [],
   "source": []
  }
 ],
 "metadata": {
  "kernelspec": {
   "display_name": "Python 3 (ipykernel)",
   "language": "python",
   "name": "python3"
  },
  "language_info": {
   "codemirror_mode": {
    "name": "ipython",
    "version": 3
   },
   "file_extension": ".py",
   "mimetype": "text/x-python",
   "name": "python",
   "nbconvert_exporter": "python",
   "pygments_lexer": "ipython3",
   "version": "3.11.6"
  }
 },
 "nbformat": 4,
 "nbformat_minor": 5
}
