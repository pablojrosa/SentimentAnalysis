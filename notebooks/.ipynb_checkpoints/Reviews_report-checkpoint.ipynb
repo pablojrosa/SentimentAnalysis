{
 "cells": [
  {
   "cell_type": "code",
   "execution_count": 1,
   "id": "785154f8-b095-4fdc-bdd2-7407d4e3ceed",
   "metadata": {},
   "outputs": [],
   "source": [
    "import os\n",
    "import sys\n",
    "import pandas as pd\n",
    "\n",
    "# Handle internal dependences issues\n",
    "notebook_dir = os.getcwd()\n",
    "project_root = os.path.abspath(os.path.join(notebook_dir, '..'))\n",
    "sys.path.append(project_root)\n",
    "\n",
    "from utils.get_llm_reviews import analyze_sentiment\n",
    "from prompts.Sentiment_Analysis import system_prompt"
   ]
  },
  {
   "cell_type": "code",
   "execution_count": 2,
   "id": "55dd3235-6944-4f1b-8b60-f983a9397d52",
   "metadata": {
    "scrolled": true
   },
   "outputs": [],
   "source": [
    "csv_path = os.path.abspath(os.path.join(project_root, 'data', 'item_reviews.csv'))\n",
    "df_reviews = pd.read_csv(csv_path)"
   ]
  },
  {
   "cell_type": "code",
   "execution_count": 3,
   "id": "2ef32ece-f1a1-45dc-87b1-ee136051237b",
   "metadata": {},
   "outputs": [
    {
     "ename": "TypeError",
     "evalue": "string indices must be integers, not 'str'",
     "output_type": "error",
     "traceback": [
      "\u001b[0;31m---------------------------------------------------------------------------\u001b[0m",
      "\u001b[0;31mTypeError\u001b[0m                                 Traceback (most recent call last)",
      "Cell \u001b[0;32mIn[3], line 6\u001b[0m\n\u001b[1;32m      4\u001b[0m \u001b[38;5;28;01mfor\u001b[39;00m i, row \u001b[38;5;129;01min\u001b[39;00m \u001b[38;5;28menumerate\u001b[39m(df_reviews):\n\u001b[1;32m      5\u001b[0m     \u001b[38;5;28;01mwhile\u001b[39;00m i \u001b[38;5;241m<\u001b[39m \u001b[38;5;241m10\u001b[39m:\n\u001b[0;32m----> 6\u001b[0m         review \u001b[38;5;241m=\u001b[39m \u001b[43mrow\u001b[49m\u001b[43m[\u001b[49m\u001b[38;5;124;43m\"\u001b[39;49m\u001b[38;5;124;43mcontent\u001b[39;49m\u001b[38;5;124;43m\"\u001b[39;49m\u001b[43m]\u001b[49m\n\u001b[1;32m      7\u001b[0m         sentiment \u001b[38;5;241m=\u001b[39m row[\u001b[38;5;124m\"\u001b[39m\u001b[38;5;124msentiment\u001b[39m\u001b[38;5;124m\"\u001b[39m]\n\u001b[1;32m      9\u001b[0m         \u001b[38;5;66;03m# Aplicar la función analyze_sentiment para predecir el sentimiento\u001b[39;00m\n",
      "\u001b[0;31mTypeError\u001b[0m: string indices must be integers, not 'str'"
     ]
    }
   ],
   "source": [
    "results_list = []\n",
    "\n",
    "# Iterar sobre todas las filas del DataFrame\n",
    "for i, row in enumerate(df_reviews.head(10)):\n",
    "    while i < 10:\n",
    "        review = df_reviews.loc[i,\"content\"]\n",
    "        sentiment = df_reviews.loc[i,\"sentiment\"]\n",
    "    \n",
    "        # Aplicar la función analyze_sentiment para predecir el sentimiento\n",
    "        predicted_sentiment = analyze_sentiment(review, system_prompt)\n",
    "    \n",
    "        # Crear un diccionario con los resultados para cada revisión\n",
    "        result_dict = {\n",
    "            \"review\": review,\n",
    "            \"actual_sentiment\": sentiment,\n",
    "            \"predicted_sentiment\": predicted_sentiment\n",
    "        }\n",
    "        results_list.append(result_dict)\n",
    "        print(\"message {} from 10\".format(i))"
   ]
  },
  {
   "cell_type": "code",
   "execution_count": null,
   "id": "1687882a-bec0-4857-860f-2565425ddd75",
   "metadata": {},
   "outputs": [],
   "source": [
    "for i, row in enumerate(df_reviews):"
   ]
  },
  {
   "cell_type": "code",
   "execution_count": 27,
   "id": "07e4c405-bc89-4fdd-8aec-abee55018250",
   "metadata": {},
   "outputs": [
    {
     "data": {
      "text/html": [
       "<div>\n",
       "<style scoped>\n",
       "    .dataframe tbody tr th:only-of-type {\n",
       "        vertical-align: middle;\n",
       "    }\n",
       "\n",
       "    .dataframe tbody tr th {\n",
       "        vertical-align: top;\n",
       "    }\n",
       "\n",
       "    .dataframe thead th {\n",
       "        text-align: right;\n",
       "    }\n",
       "</style>\n",
       "<table border=\"1\" class=\"dataframe\">\n",
       "  <thead>\n",
       "    <tr style=\"text-align: right;\">\n",
       "      <th></th>\n",
       "      <th>review</th>\n",
       "      <th>actual_sentiment</th>\n",
       "      <th>predicted_sentiment</th>\n",
       "    </tr>\n",
       "  </thead>\n",
       "  <tbody>\n",
       "    <tr>\n",
       "      <th>0</th>\n",
       "      <td>Es bueno , rápido, cámara buena.\\nBatería dura...</td>\n",
       "      <td>Positive</td>\n",
       "      <td>Positivo</td>\n",
       "    </tr>\n",
       "    <tr>\n",
       "      <th>1</th>\n",
       "      <td>Es bueno , rápido, cámara buena.\\nBatería dura...</td>\n",
       "      <td>Positive</td>\n",
       "      <td>Positivo</td>\n",
       "    </tr>\n",
       "    <tr>\n",
       "      <th>2</th>\n",
       "      <td>Es bueno , rápido, cámara buena.\\nBatería dura...</td>\n",
       "      <td>Positive</td>\n",
       "      <td>Positivo</td>\n",
       "    </tr>\n",
       "  </tbody>\n",
       "</table>\n",
       "</div>"
      ],
      "text/plain": [
       "                                              review actual_sentiment  \\\n",
       "0  Es bueno , rápido, cámara buena.\\nBatería dura...         Positive   \n",
       "1  Es bueno , rápido, cámara buena.\\nBatería dura...         Positive   \n",
       "2  Es bueno , rápido, cámara buena.\\nBatería dura...         Positive   \n",
       "\n",
       "  predicted_sentiment  \n",
       "0            Positivo  \n",
       "1            Positivo  \n",
       "2            Positivo  "
      ]
     },
     "execution_count": 27,
     "metadata": {},
     "output_type": "execute_result"
    }
   ],
   "source": [
    "pd.DataFrame(results_list)"
   ]
  },
  {
   "cell_type": "code",
   "execution_count": null,
   "id": "0b70de18-c27c-484d-ac7b-173d6c56fad1",
   "metadata": {},
   "outputs": [],
   "source": []
  }
 ],
 "metadata": {
  "kernelspec": {
   "display_name": "Python 3 (ipykernel)",
   "language": "python",
   "name": "python3"
  },
  "language_info": {
   "codemirror_mode": {
    "name": "ipython",
    "version": 3
   },
   "file_extension": ".py",
   "mimetype": "text/x-python",
   "name": "python",
   "nbconvert_exporter": "python",
   "pygments_lexer": "ipython3",
   "version": "3.11.6"
  }
 },
 "nbformat": 4,
 "nbformat_minor": 5
}
